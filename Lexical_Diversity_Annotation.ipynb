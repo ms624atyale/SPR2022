{
  "nbformat": 4,
  "nbformat_minor": 0,
  "metadata": {
    "colab": {
      "name": "Copy of Untitled0.ipynb",
      "provenance": [],
      "collapsed_sections": [],
      "authorship_tag": "ABX9TyMxdkwyPqd1iZ3NXocNxbCk",
      "include_colab_link": true
    },
    "kernelspec": {
      "name": "python3",
      "display_name": "Python 3"
    },
    "language_info": {
      "name": "python"
    }
  },
  "cells": [
    {
      "cell_type": "markdown",
      "metadata": {
        "id": "view-in-github",
        "colab_type": "text"
      },
      "source": [
        "<a href=\"https://colab.research.google.com/github/ms624atyale/Spring_2022/blob/main/Lexical_Diversity_Annotation.ipynb\" target=\"_parent\"><img src=\"https://colab.research.google.com/assets/colab-badge.svg\" alt=\"Open In Colab\"/></a>"
      ]
    },
    {
      "cell_type": "markdown",
      "source": [
        "##Lexical diversity (어휘 다양성)\n",
        "- 텍스트의 표준어휘를 기준으로 다양성 측정, 텍스트의 단어 수 측정, 각 문장에서 절 갯수, 문장 길이 등을 측정한다.    \n",
        "\n",
        "#코드 짜기는 lexical-diversity 패키지를 다운로드 하면서 시작한다. \n",
        "\n",
        "<덪붙이는 말> Package (패키지)는 한 개 이상의 Module(모듈)로 구성되어 있고, 모듈은 한 개 이상의 function(함수)로 구성되어 있다, Colab에 내장된 것과 외부 패키지 두 가지 종류가 있다. 내장 패키지는 그대로 사용하면 되고, 외부 패키지는 install(설치)을 통하여 개인 기기에 설치해야 한다. lexical-diversity 패키지가 코드 작성 때 필요하다면 이 외부 패키지는 사용자가 설치해야 한다. \n",
        "\n",
        "- [코드문법1] 파이썬 설치 수단인 pip를 사용하여 lexical-diversity 패키지를 설치한다.   "
      ],
      "metadata": {
        "id": "1bRtwBJfsXi6"
      }
    },
    {
      "cell_type": "code",
      "execution_count": 1,
      "metadata": {
        "colab": {
          "base_uri": "https://localhost:8080/"
        },
        "id": "tZvTEK9nsExU",
        "outputId": "69eb2e8b-77bc-4ae0-c476-97829ab0964a"
      },
      "outputs": [
        {
          "output_type": "stream",
          "name": "stdout",
          "text": [
            "Collecting lexical-diversity\n",
            "  Downloading lexical_diversity-0.1.1-py3-none-any.whl (117 kB)\n",
            "\u001b[?25l\r\u001b[K     |██▉                             | 10 kB 21.8 MB/s eta 0:00:01\r\u001b[K     |█████▋                          | 20 kB 13.1 MB/s eta 0:00:01\r\u001b[K     |████████▍                       | 30 kB 9.3 MB/s eta 0:00:01\r\u001b[K     |███████████▏                    | 40 kB 3.8 MB/s eta 0:00:01\r\u001b[K     |██████████████                  | 51 kB 3.8 MB/s eta 0:00:01\r\u001b[K     |████████████████▊               | 61 kB 4.5 MB/s eta 0:00:01\r\u001b[K     |███████████████████▌            | 71 kB 4.7 MB/s eta 0:00:01\r\u001b[K     |██████████████████████▎         | 81 kB 4.7 MB/s eta 0:00:01\r\u001b[K     |█████████████████████████       | 92 kB 5.2 MB/s eta 0:00:01\r\u001b[K     |███████████████████████████▉    | 102 kB 4.4 MB/s eta 0:00:01\r\u001b[K     |██████████████████████████████▋ | 112 kB 4.4 MB/s eta 0:00:01\r\u001b[K     |████████████████████████████████| 117 kB 4.4 MB/s \n",
            "\u001b[?25hInstalling collected packages: lexical-diversity\n",
            "Successfully installed lexical-diversity-0.1.1\n"
          ]
        }
      ],
      "source": [
        "pip install lexical-diversity"
      ]
    },
    {
      "cell_type": "markdown",
      "source": [
        "<덪붙이는 말> 파이썬에서 패키지는 모종의 작업을 하기 위해 필요한 함수를 묶어놓은 것입니다. 패키지를 설치한다는 말은 개인 컴퓨터에 패키지를 묶음 상자채로 가져다 놓는 것입니다. 패키지에 여러 모듈이 있고, 그 하위에는 여러 함수가 있기 때문에 이를 다 사용하면 컴퓨터 용량이 너무 많이 소모됩니다. 경제적으로 작업에 필요한 모듈과 함수만 불러들여서 사용하는데 이를'import(불러오기)'라고 합니다. 코드에서 해당 모듈이나 함수를 반복 사용할 경우를 대비하여 축약어로 줄여서 사용할 수 있습니다 (import A as B (A를 B라고 불러오기). 영어에서 축약어는 자음만 따와서 주로 사용 합니다.  \n",
        "\n",
        "### [코드해석] lexical-diversity 패키지에서 lex_div 함수를 ld 라고 줄여서 불러와라.  "
      ],
      "metadata": {
        "id": "wkhynEM8tSgW"
      }
    },
    {
      "cell_type": "code",
      "source": [
        "from lexical_diversity import lex_div as ld"
      ],
      "metadata": {
        "id": "-SO7BTfbtPdw"
      },
      "execution_count": 2,
      "outputs": []
    },
    {
      "cell_type": "markdown",
      "source": [
        "#사전 작업하기: 텍스트에서 단어 형태의 토큰 추출하기\n",
        "- Lexical Diversity(어휘 다양성)를 알아보기 위해서는 분석하려는 텍스트의 단어를 토큰화하여 분석할 수 있는 형태로 준비해 놓아야 한다.  \n",
        "\n",
        "##텍스트\n",
        "<덪붙이는 말> 원문이 되는 텍스트는 세 가지 방법으로 읽어들일 수 있다. 첫 번 째는 url (uniform resource locator (유일자원지시기\u001d)을 사용하여 자원이 어디 있는지 지정해 주는 방법, 두 번 째는 Colab에 디렉토리에 파일을 업로드하여 사용하는 방법, 세 번 째는 현재 작업하는 command window (명령창)에 \"\"\"을 쌍으로 사용하여 사용할 텍스트를 원문에서 복사하여 붙여넣기 하는 방법이다. (데모로 사용할 때 추천. 텍스트는 plain text 형태를 copy & paste 할 수 있기 때문에 url 에서 바로 복사해 오거나 TextEdit 를 사용한다.) \n",
        "\n",
        "- 코드 문법 1: 한 쌍으로 표시된 \"\"\" 안에 있는 텍스트를 text 변수에 할당해라. (참고: 변수명은 할당된 내용 전체를 담고 있다.)     \n",
        "\n",
        "##단어 형태의 토큰 추출하기\n",
        "<덪붙이는 말 1> 모듈 ld (위 설명 참조: lex_div 모듈을 줄임말)의 하위 함수인 tokenize 함수를 사용하여 단어화 하는 방법이다. 함수 인자는 ( ) 안에 넣고, 인덱스는 [ ] 안에 넣는다. [:10]의 뜻은 인데스 0부터 9까지를 표시하니까 앞에서부터 총 10개가 결과로 반환된다.\n",
        "\n",
        "- 코드 문법 2: ld 모듈의 하위 함수 tokenize를 사용하며, 함수 인자로 text 변수를 넣어준다. 단어 형태로 반환된 토큰을 tok 변수에 할당해라.\n",
        "\n",
        "- 코드 문법 3: tok 변수값을 출력하되 처음부터 10개 까지만 출력해라. (참고: 해당 명령창 마지막 코드로 print( ) 함수를 사용할 때에는 변수만 사용하여 간단히 코드를 사용할 수 있다. "
      ],
      "metadata": {
        "id": "IZs12LYTWnWm"
      }
    },
    {
      "cell_type": "code",
      "source": [
        "text = \"\"\"The state was named for the Colorado River, which Spanish travelers named the Río Colorado for the ruddy silt the river carried from the mountains. The Territory of Colorado was organized on February 28, 1861, and on August 1, 1876, U.S. President Ulysses S. Grant signed Proclamation 230 admitting Colorado to the Union as the 38th state. Colorado is nicknamed the \"Centennial State\" because it became a state a century after the signing of the United States Declaration of Independence. Colorado is bordered by Wyoming to the north, Nebraska to the northeast, Kansas to the east, Oklahoma to the southeast, New Mexico to the south, Utah to the west, and touches Arizona to the southwest at the Four Corners. Colorado is noted for its vivid landscape of mountains, forests, high plains, mesas, canyons, plateaus, rivers, and desert lands. Colorado is part of the western or southwestern United States, and one of the Mountain States. Denver is the capital and most populous city of Colorado. Residents of the state are known as Coloradans, although the antiquated term \"Coloradoan\" is occasionally used.\"\"\"\n",
        "\n",
        "tok = ld.tokenize(text)\n",
        "print(tok[:10])"
      ],
      "metadata": {
        "colab": {
          "base_uri": "https://localhost:8080/"
        },
        "id": "WAIP4WEgQx5F",
        "outputId": "b88b26c0-bc37-43f8-f1e3-8f87fc7eafbf"
      },
      "execution_count": 3,
      "outputs": [
        {
          "output_type": "stream",
          "name": "stdout",
          "text": [
            "['the', 'state', 'was', 'named', 'for', 'the', 'colorado', 'river', 'which', 'spanish']\n"
          ]
        }
      ]
    },
    {
      "cell_type": "markdown",
      "source": [
        "# 어휘다양성 지수 계산에서 미리 이해할 점 \n",
        "\n",
        "- flemmatize 함수 이해하기: 텍스트에 사용된 영어문장은 S-V-O 형태를 기본으로 가지며, 명사는 가산명사와 불가산명사를 구분하고, 주어-동사 일치등의 기본 규칙이 있다. 문장에서 사용되는 영어 단어는 Lemma(표준형태) 그대로 사용되기 보다 문장 내에서 여러 변화된 형태로 사용된다. 단어 변화를 분류하는 방법은 Derivation(파생(주로 품사를 변화시킴 (예: A('pure')->V('purify)->N(purification)))과 inflection(굴절 (문법 기능과 관련 (예시: V-(e)s, V-ing, V-ed, N-s))이 있고. 품사에 따라 분류하여 동사변화(conjugation)와 명사/대명사/형용사변화(declension)로 나눌 수도 있다. 어휘다양성을 지수를 계산할 때에는 단어의 표준형태를 참조해야 분석이 용이하다. 표준형태를 참조할 때라도 동일 단어가 복수의 품사로 사용되는 경우가 있는데 (예: address (N & V)), 텍스트 내에서 품사 다양성을 고려하지 않고 단어 자체로만 표준형태를 추출할 때 lexical diversity 패키지에 포함된 flemmatize 함수를 사용한다. \n",
        "\n",
        "- ttr 함수 이해하기: 정량화한 scale(척도)을 사용하여 유일한 어휘의 수를 전체 sample(표본) 수로 나눈 것. 예를 들어 결과값 0.5는 텍스트에서 유일한 어휘가 2 단어 중 1 단어라는 뜻이다. TTR 계산은 ttr == nType/nTokens \n",
        "-- [type-token ratio](\"https://www.google.com/search?client=safari&rls=en&q=how+do+we+calculate+lexical+diversity&ie=UTF-8&oe=UTF-8\")\n",
        "\n",
        "- Square root of X (X의 제곱근): 어떤 수에 똑같은 수를 곱하면 그 수가 나오는 것 (예: Square root of 4 is 2). square root of TTR 계산은 Root ttr == nType/squre root of nTokens \n",
        "\n",
        "- Exponentiation(거듭제곱): 거듭은 again의 뜻으로 base(밑(수)/기저), 다시 곱하는 횟수는 exponent/power(지수/어깨수)다. 예를 들어 2^10은 2를 10 번 곱하는 것으로 two to the 10th power,, two raised to the power of 10, \"2의 10승\"으로 표현한다. \n",
        "\n",
        "- log: 로그함수는 지수함수의 역함수이다. y=a^x라는 관계가 있으면 “x는 a를 밑으로 하는 y의 로그”라 하고 logay=x로 표기한다. Log TTR 계산은 Log ttr == log(nType)/log(nTokens) \n",
        "-- [로그함수](\"https://en.wikipedia.org/wiki/Logarithm\")\n",
        "\n",
        "- 코드문법 1: ld 모듈의 flemmatize 함수 인자에 text를 사용하고, 이 결과를 flt변수에 할당\n",
        "- 코드문법 2: ld 모듈의 ttr 함수 인자에 flt 변수를 사용하고, 그 결과를 반환\n",
        "- 코드문법 3: ld 모듈의 root_ttr 함수 인자에 flt 변수를 사용하고, 그 결과를 반환\n",
        "- 코드문법 4: ld 모듈의 log_ttr 함수 인자에 flt 변수를 사용하고, 그 결과를 반환\n",
        "- 코드문법 4: ld 모듈의 maas_ttr 함수 인자에 flt 변수를 사용하고, 그 결과를 반환 (***maas 함수는 뭔지 몰라)\n"
      ],
      "metadata": {
        "id": "VrF-j11ot_4u"
      }
    },
    {
      "cell_type": "code",
      "source": [
        "flt = ld.flemmatize(text)\n",
        "print(ld.ttr(flt))\n",
        "print(ld.root_ttr(flt))\n",
        "print(ld.log_ttr(flt))\n",
        "print(ld.maas_ttr(flt))"
      ],
      "metadata": {
        "colab": {
          "base_uri": "https://localhost:8080/"
        },
        "id": "6JdV8BInpVCM",
        "outputId": "9d0e67a8-aed1-4df6-a95a-ca6d9baa3ac0"
      },
      "execution_count": 12,
      "outputs": [
        {
          "output_type": "stream",
          "name": "stdout",
          "text": [
            "0.5777777777777777\n",
            "7.751702321999271\n",
            "0.8943634681549878\n",
            "0.04683980831849556\n"
          ]
        }
      ]
    },
    {
      "cell_type": "markdown",
      "source": [
        "#아래 함수들 뭐하는 건지 잘 모름"
      ],
      "metadata": {
        "id": "NjpBpCAdUYkf"
      }
    },
    {
      "cell_type": "markdown",
      "source": [
        "##함수 이해하기\n",
        "- mean segmental type-text ratio (msttr): 특정 분절음이 텍스트에서 나타나는 평균을 알아보는????? 함수로써 윈도우 크기 기본값은 50개 철자가 설정되어 있는데, window 크기를 조정하며 철자수를 줄일수도 늘일수도 있다. 기본값을 텍스트에 적용했을 때 주어진 윈도우 크기 안에서 특정 분절음의 비율이 높을 수록 어휘다양성 지수가 낮아진다.?????  \n",
        "\n",
        "- moving average type-text ratio (mattr): "
      ],
      "metadata": {
        "id": "LWQ4CbkOZWMD"
      }
    },
    {
      "cell_type": "code",
      "source": [
        "flt = ld.flemmatize(text)\n",
        "print(ld.msttr(flt))\n",
        "print(ld.mattr(flt))\n",
        "print(ld.hdd(flt))\n"
      ],
      "metadata": {
        "colab": {
          "base_uri": "https://localhost:8080/"
        },
        "id": "ugU8CMNBRehB",
        "outputId": "85a40860-f382-4cff-9a5c-8d31ed81e806"
      },
      "execution_count": 10,
      "outputs": [
        {
          "output_type": "stream",
          "name": "stdout",
          "text": [
            "0.7133333333333333\n",
            "0.7206106870229007\n",
            "0.7346993253061275\n"
          ]
        }
      ]
    },
    {
      "cell_type": "markdown",
      "source": [
        "#아래 함수들 뭐하는 건지 잘 모름\n",
        "- mtld (measure of textual lexical diversity) 함수: 표본에서 각 단어 ttr 값이 0.72를 넘는지 개별로 확인하는 측정 방법. 표본의 첫 번 째 단어 ~ 끝 단어까지 순차적으로 한 개 씩 측정함. \n",
        "-- [mltd function (McCarthy, 2005)](\"https://www.google.com/search?q=mtld+function+in+lexical+diversity&oq=mtld+function+in+lexical+diversity&aqs=chrome..69i57j33i160l2.8095j0j4&sourceid=chrome&ie=UTF-8\")\n",
        "\n"
      ],
      "metadata": {
        "id": "SRrdwTe4Uc5h"
      }
    },
    {
      "cell_type": "code",
      "source": [
        "flt = ld.flemmatize(text)\n",
        "print(ld.mtld(flt))\n",
        "print(ld.mtld_ma_wrap(flt))\n",
        "print(ld.mtld_ma_bid(flt))"
      ],
      "metadata": {
        "colab": {
          "base_uri": "https://localhost:8080/"
        },
        "id": "KbvcI8WeSZzt",
        "outputId": "50b1331c-a2bd-4baa-905a-5e151d688a6c"
      },
      "execution_count": 11,
      "outputs": [
        {
          "output_type": "stream",
          "name": "stdout",
          "text": [
            "36.50595044690307\n",
            "33.68333333333333\n",
            "35.46626265150569\n"
          ]
        }
      ]
    }
  ]
}