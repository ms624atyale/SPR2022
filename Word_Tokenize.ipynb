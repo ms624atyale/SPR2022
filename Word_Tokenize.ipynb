{
  "nbformat": 4,
  "nbformat_minor": 0,
  "metadata": {
    "colab": {
      "name": "Copy of Untitled1.ipynb",
      "provenance": [],
      "collapsed_sections": [],
      "toc_visible": true,
      "authorship_tag": "ABX9TyP7C66Si8Jt2vUpTOZw1g7b",
      "include_colab_link": true
    },
    "kernelspec": {
      "name": "python3",
      "display_name": "Python 3"
    },
    "language_info": {
      "name": "python"
    }
  },
  "cells": [
    {
      "cell_type": "markdown",
      "metadata": {
        "id": "view-in-github",
        "colab_type": "text"
      },
      "source": [
        "<a href=\"https://colab.research.google.com/github/ms624atyale/Spring_2022/blob/main/Word_Tokenize.ipynb\" target=\"_parent\"><img src=\"https://colab.research.google.com/assets/colab-badge.svg\" alt=\"Open In Colab\"/></a>"
      ]
    },
    {
      "cell_type": "markdown",
      "source": [
        "# 텍스트 읽기 전 단어습득 효율화 하기\n",
        "텍스트에서 3개 철자 이상의 단어를 리스트화 해서 단어를 토큰 형태로 추출\n"
      ],
      "metadata": {
        "id": "LeRPjmmU9e_v"
      }
    },
    {
      "cell_type": "markdown",
      "source": [
        "##정규표현식 re 모듈 불러들이기\n",
        "- re.compile( ) 찾고자 하는 패턴이 빈번할 때 미리 필요한 것 쌓아두게 하는 함수\n",
        "- re.sub( ) 문자열에서 정규표현식과 일치하는 부분을 다른 문자열로 대체하는 함수"
      ],
      "metadata": {
        "id": "EjfAtDEN_k8G"
      }
    },
    {
      "cell_type": "code",
      "source": [
        "import re"
      ],
      "metadata": {
        "id": "jSZx-26nviQ0"
      },
      "execution_count": 3,
      "outputs": []
    },
    {
      "cell_type": "markdown",
      "source": [
        "##lexical diversity 패키지 설치"
      ],
      "metadata": {
        "id": "fiYPpnIi9WqQ"
      }
    },
    {
      "cell_type": "code",
      "execution_count": 4,
      "metadata": {
        "colab": {
          "base_uri": "https://localhost:8080/"
        },
        "id": "qUa8JBj1u8OJ",
        "outputId": "07f2dd31-796f-4d72-8bee-f55461290d83"
      },
      "outputs": [
        {
          "output_type": "stream",
          "name": "stdout",
          "text": [
            "Collecting lexical-diversity\n",
            "  Downloading lexical_diversity-0.1.1-py3-none-any.whl (117 kB)\n",
            "\u001b[?25l\r\u001b[K     |██▉                             | 10 kB 19.9 MB/s eta 0:00:01\r\u001b[K     |█████▋                          | 20 kB 24.8 MB/s eta 0:00:01\r\u001b[K     |████████▍                       | 30 kB 30.1 MB/s eta 0:00:01\r\u001b[K     |███████████▏                    | 40 kB 27.2 MB/s eta 0:00:01\r\u001b[K     |██████████████                  | 51 kB 20.2 MB/s eta 0:00:01\r\u001b[K     |████████████████▊               | 61 kB 22.0 MB/s eta 0:00:01\r\u001b[K     |███████████████████▌            | 71 kB 23.2 MB/s eta 0:00:01\r\u001b[K     |██████████████████████▎         | 81 kB 24.8 MB/s eta 0:00:01\r\u001b[K     |█████████████████████████       | 92 kB 26.1 MB/s eta 0:00:01\r\u001b[K     |███████████████████████████▉    | 102 kB 25.6 MB/s eta 0:00:01\r\u001b[K     |██████████████████████████████▋ | 112 kB 25.6 MB/s eta 0:00:01\r\u001b[K     |████████████████████████████████| 117 kB 25.6 MB/s \n",
            "\u001b[?25hInstalling collected packages: lexical-diversity\n",
            "Successfully installed lexical-diversity-0.1.1\n"
          ]
        }
      ],
      "source": [
        "pip install lexical-diversity"
      ]
    },
    {
      "cell_type": "markdown",
      "source": [
        "##lex_div 모듈 불러들이기"
      ],
      "metadata": {
        "id": "R20WqZIx-tt-"
      }
    },
    {
      "cell_type": "code",
      "source": [
        "from lexical_diversity import lex_div as ld"
      ],
      "metadata": {
        "id": "2acHy4jK7oB0"
      },
      "execution_count": 5,
      "outputs": []
    },
    {
      "cell_type": "markdown",
      "source": [
        "## 학습할 단어 토큰화\n",
        "문자 갯수가 1 ~ 3 개 단어를 제외한 단어를 추출하고, 이 단어들을 lex_div 모듈과 tokenize 함수를 사용하여 토큰화해서 리스트로 반환\n",
        "\n",
        "- 1. 텍스트를 한 쌍의 \"\"\"에 집어 넣는다. (주의: 웹싸이트 텍스트, TextEdit 혹은 메모장 내용은 copy&paste 가능하지만, ms word는 같은 문서 만드는 앱 내용은 안된다.) \n",
        "- 2. 정규분포식을 사용하여 빈번한 패턴을 미리 쌓아둔다 (1~3개 문자 제외한 단어와 숫자)\n",
        "- 3. #2에 정규분포식을 사용한 컴파일 함수의 결과물을 텍스트 문자로 대체하여 그 결과를 voca 변수에 할당한다.\n",
        "- 4. voca 변수를 ld 모듈의 tokenize 함수를 사용하여 tok 변수에 할당한다.\n",
        "- 5. tok 변수를 출력한다. (4철자 이상 단어가 리스트 형태로 반환된다.)\n",
        "\n",
        "\n"
      ],
      "metadata": {
        "id": "hg5M1rjh_0JS"
      }
    },
    {
      "cell_type": "code",
      "source": [
        "txt=\"\"\"The Solomon R. Guggenheim Museum, often referred to as The Guggenheim, is an art museum at 1071 Fifth Avenue on the corner of East 89th Street on the Upper East Side of Manhattan in New York City. It is the permanent home of a continuously expanding collection of Impressionist, Post-Impressionist, early Modern, and contemporary art and also features special exhibitions throughout the year. The museum was established by the Solomon R. Guggenheim Foundation in 1939 as the Museum of Non-Objective Painting, under the guidance of its first director, Hilla von Rebay. It adopted its current name in 1952, three years after the death of its founder Solomon R. Guggenheim. In 1959, the museum moved from rented space to its current building, a landmark work of 20th-century architecture designed by Frank Lloyd Wright. The cylindrical building, wider at the top than at the bottom, was conceived as a \"temple of the spirit\". Its unique ramp gallery extends up from ground level in a long, continuous spiral along the outer edges of the building to end just under the ceiling skylight. The building underwent extensive expansion and renovations in 1992 when an adjoining tower was built, and from 2005 to 2008.The museum's collection has grown over eight decades and is founded upon several important private collections, beginning with that of Solomon R. Guggenheim. The collection is shared with sister museums in Bilbao, Spain and elsewhere. In 2013, nearly 1.2 million people visited the museum, and it hosted the most popular exhibition in New York City.\"\"\"\n",
        "shortword = re.compile(r'\\W*\\b\\w{1,3}\\b')\n",
        "voca = shortword.sub('',txt)\n",
        "tok=ld.tokenize(voca)\n",
        "print(tok)\n",
        "\n"
      ],
      "metadata": {
        "colab": {
          "base_uri": "https://localhost:8080/"
        },
        "id": "L9Civ20WvqAh",
        "outputId": "264d53aa-3aae-486f-8b67-596bf75f93bf"
      },
      "execution_count": 6,
      "outputs": [
        {
          "output_type": "stream",
          "name": "stdout",
          "text": [
            "['', 'solomon', 'guggenheim', 'museum', 'often', 'referred', 'guggenheim', 'museum', '1071', 'fifth', 'avenue', 'corner', 'east', '89th', 'street', 'upper', 'east', 'side', 'manhattan', 'york', 'city', 'permanent', 'home', 'continuously', 'expanding', 'collection', 'impressionist', 'postimpressionist', 'early', 'modern', 'contemporary', 'also', 'features', 'special', 'exhibitions', 'throughout', 'year', 'museum', 'established', 'solomon', 'guggenheim', 'foundation', '1939', 'museumobjective', 'painting', 'under', 'guidance', 'first', 'director', 'hilla', 'rebay', 'adopted', 'current', 'name', '1952', 'three', 'years', 'after', 'death', 'founder', 'solomon', 'guggenheim', '1959', 'museum', 'moved', 'from', 'rented', 'space', 'current', 'building', 'landmark', 'work', '20thcentury', 'architecture', 'designed', 'frank', 'lloyd', 'wright', 'cylindrical', 'building', 'wider', 'than', 'bottom', 'conceived', '\"temple', 'spirit', 'unique', 'ramp', 'gallery', 'extends', 'from', 'ground', 'level', 'long', 'continuous', 'spiral', 'along', 'outer', 'edges', 'building', 'just', 'under', 'ceiling', 'skylight', 'building', 'underwent', 'extensive', 'expansion', 'renovations', '1992', 'when', 'adjoining', 'tower', 'built', 'from', '2005', '2008', 'museum', 'collection', 'grown', 'over', 'eight', 'decades', 'founded', 'upon', 'several', 'important', 'private', 'collections', 'beginning', 'with', 'that', 'solomon', 'guggenheim', 'collection', 'shared', 'with', 'sister', 'museums', 'bilbao', 'spain', 'elsewhere', '2013', 'nearly', 'million', 'people', 'visited', 'museum', 'hosted', 'most', 'popular', 'exhibition', 'york', 'city']\n"
          ]
        }
      ]
    }
  ]
}