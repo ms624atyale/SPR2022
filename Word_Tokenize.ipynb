{
  "nbformat": 4,
  "nbformat_minor": 0,
  "metadata": {
    "colab": {
      "name": "Copy of Untitled1.ipynb",
      "provenance": [],
      "collapsed_sections": [],
      "toc_visible": true,
      "authorship_tag": "ABX9TyNUEeWzGAQ+uzpTcvc3/12/",
      "include_colab_link": true
    },
    "kernelspec": {
      "name": "python3",
      "display_name": "Python 3"
    },
    "language_info": {
      "name": "python"
    }
  },
  "cells": [
    {
      "cell_type": "markdown",
      "metadata": {
        "id": "view-in-github",
        "colab_type": "text"
      },
      "source": [
        "<a href=\"https://colab.research.google.com/github/ms624atyale/Spring_2022/blob/main/Word_Tokenize.ipynb\" target=\"_parent\"><img src=\"https://colab.research.google.com/assets/colab-badge.svg\" alt=\"Open In Colab\"/></a>"
      ]
    },
    {
      "cell_type": "markdown",
      "source": [
        "# 텍스트 읽기 전 단어습득 효율화 하기\n",
        "텍스트에서 3개 철자 이상의 단어를 리스트화 해서 단어를 토큰 형태로 추출\n"
      ],
      "metadata": {
        "id": "LeRPjmmU9e_v"
      }
    },
    {
      "cell_type": "markdown",
      "source": [
        "##정규표현식 re 모듈 불러들이기\n",
        "####re.compile( ) 찾고자 하는 패턴이 빈번할 때 미리 필요한 것 쌓아두게 하는 함수\n",
        "####re.sub( ) 문자열에서 정규표현식과 일치하는 부분을 다른 문자열로 대체하는 함수"
      ],
      "metadata": {
        "id": "EjfAtDEN_k8G"
      }
    },
    {
      "cell_type": "code",
      "source": [
        "import re"
      ],
      "metadata": {
        "id": "jSZx-26nviQ0"
      },
      "execution_count": null,
      "outputs": []
    },
    {
      "cell_type": "markdown",
      "source": [
        "##lexical diversity 패키지 설치"
      ],
      "metadata": {
        "id": "fiYPpnIi9WqQ"
      }
    },
    {
      "cell_type": "code",
      "execution_count": null,
      "metadata": {
        "colab": {
          "base_uri": "https://localhost:8080/"
        },
        "id": "qUa8JBj1u8OJ",
        "outputId": "99b2b172-e22a-49cd-9abb-4ce17e80e67e"
      },
      "outputs": [
        {
          "output_type": "stream",
          "name": "stdout",
          "text": [
            "Collecting lexical-diversity\n",
            "  Downloading lexical_diversity-0.1.1-py3-none-any.whl (117 kB)\n",
            "\u001b[?25l\r\u001b[K     |██▉                             | 10 kB 20.3 MB/s eta 0:00:01\r\u001b[K     |█████▋                          | 20 kB 24.7 MB/s eta 0:00:01\r\u001b[K     |████████▍                       | 30 kB 28.8 MB/s eta 0:00:01\r\u001b[K     |███████████▏                    | 40 kB 32.5 MB/s eta 0:00:01\r\u001b[K     |██████████████                  | 51 kB 11.8 MB/s eta 0:00:01\r\u001b[K     |████████████████▊               | 61 kB 13.7 MB/s eta 0:00:01\r\u001b[K     |███████████████████▌            | 71 kB 9.5 MB/s eta 0:00:01\r\u001b[K     |██████████████████████▎         | 81 kB 9.0 MB/s eta 0:00:01\r\u001b[K     |█████████████████████████       | 92 kB 9.9 MB/s eta 0:00:01\r\u001b[K     |███████████████████████████▉    | 102 kB 10.1 MB/s eta 0:00:01\r\u001b[K     |██████████████████████████████▋ | 112 kB 10.1 MB/s eta 0:00:01\r\u001b[K     |████████████████████████████████| 117 kB 10.1 MB/s \n",
            "\u001b[?25hInstalling collected packages: lexical-diversity\n",
            "Successfully installed lexical-diversity-0.1.1\n"
          ]
        }
      ],
      "source": [
        "pip install lexical-diversity"
      ]
    },
    {
      "cell_type": "markdown",
      "source": [
        "##lex_div 모듈 불러들이기"
      ],
      "metadata": {
        "id": "R20WqZIx-tt-"
      }
    },
    {
      "cell_type": "code",
      "source": [
        "from lexical_diversity import lex_div as ld"
      ],
      "metadata": {
        "id": "2acHy4jK7oB0"
      },
      "execution_count": null,
      "outputs": []
    },
    {
      "cell_type": "markdown",
      "source": [
        "## 학습할 단어 토큰화\n",
        "문자 갯수가 1 ~ 3 개 단어를 제외한 단어를 추출하고, 이 단어들을 lex_div 모듈과 tokenize 함수를 사용하여 토큰화해서 리스트로 반환"
      ],
      "metadata": {
        "id": "hg5M1rjh_0JS"
      }
    },
    {
      "cell_type": "code",
      "source": [
        "txt=\"\"\"The state was named for the Colorado River, which Spanish travelers named the Río Colorado for the ruddy silt the river carried from the mountains. The Territory of Colorado was organized on February 28, 1861, and on August 1, 1876, U.S. President Ulysses S. Grant signed Proclamation 230 admitting Colorado to the Union as the 38th state. Colorado is nicknamed the \"Centennial State\" because it became a state a century after the signing of the United States Declaration of Independence. Colorado is bordered by Wyoming to the north, Nebraska to the northeast, Kansas to the east, Oklahoma to the southeast, New Mexico to the south, Utah to the west, and touches Arizona to the southwest at the Four Corners. Colorado is noted for its vivid landscape of mountains, forests, high plains, mesas, canyons, plateaus, rivers, and desert lands. Colorado is part of the western or southwestern United States, and one of the Mountain States. Denver is the capital and most populous city of Colorado. Residents of the state are known as Coloradans, although the antiquated term \"Coloradoan\" is occasionally used.\"\"\"\n",
        "shortword = re.compile(r'\\W*\\b\\w{1,3}\\b')\n",
        "voca = shortword.sub('',txt)\n",
        "tok=ld.tokenize(voca)\n",
        "print(tok)\n",
        "\n"
      ],
      "metadata": {
        "colab": {
          "base_uri": "https://localhost:8080/"
        },
        "id": "L9Civ20WvqAh",
        "outputId": "5aa0ecbd-11cf-4f0e-e119-7af79f4b77c2"
      },
      "execution_count": null,
      "outputs": [
        {
          "output_type": "stream",
          "name": "stdout",
          "text": [
            "['', 'state', 'named', 'colorado', 'river', 'which', 'spanish', 'travelers', 'named', 'colorado', 'ruddy', 'silt', 'river', 'carried', 'from', 'mountains', 'territory', 'colorado', 'organized', 'february', '1861', 'august', '1876', 'president', 'ulysses', 'grant', 'signed', 'proclamation', 'admitting', 'colorado', 'union', '38th', 'state', 'colorado', 'nicknamed', '\"centennial', 'state\"', 'because', 'became', 'state', 'century', 'after', 'signing', 'united', 'states', 'declaration', 'independence', 'colorado', 'bordered', 'wyoming', 'north', 'nebraska', 'northeast', 'kansas', 'east', 'oklahoma', 'southeast', 'mexico', 'south', 'utah', 'west', 'touches', 'arizona', 'southwest', 'four', 'corners', 'colorado', 'noted', 'vivid', 'landscape', 'mountains', 'forests', 'high', 'plains', 'mesas', 'canyons', 'plateaus', 'rivers', 'desert', 'lands', 'colorado', 'part', 'western', 'southwestern', 'united', 'states', 'mountain', 'states', 'denver', 'capital', 'most', 'populous', 'city', 'colorado', 'residents', 'state', 'known', 'coloradans', 'although', 'antiquated', 'term', '\"coloradoan', 'occasionally', 'used']\n"
          ]
        }
      ]
    }
  ]
}